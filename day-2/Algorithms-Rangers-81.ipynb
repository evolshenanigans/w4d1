{
 "cells": [
  {
   "cell_type": "markdown",
   "metadata": {},
   "source": [
    "# Cl"
   ]
  },
  {
   "cell_type": "markdown",
   "metadata": {},
   "source": [
    "## Tasks Today:\n",
    " \n",
    "1) <b>In-Place Algorithms</b> <br>\n",
    " &nbsp;&nbsp;&nbsp;&nbsp; a) Syntax <br>\n",
    " &nbsp;&nbsp;&nbsp;&nbsp; a) Out of Place Algorithm <br>\n",
    " &nbsp;&nbsp;&nbsp;&nbsp; b) In-Class Exercise #1 <br>\n",
    "2) <b>Two Pointers</b> <br>\n",
    "3) <b>Linked Lists</b> <br>\n",
    "4) <b>Merge Sort</b> <br>\n",
    " &nbsp;&nbsp;&nbsp;&nbsp; a) Video on Algorithms <br>\n",
    " &nbsp;&nbsp;&nbsp;&nbsp; b) How it Works <br>\n",
    "5) <b>Exercises</b> <br>\n",
    " &nbsp;&nbsp;&nbsp;&nbsp; a) Exercise #1 - Reverse a List in Place Using an In-Place Algorithm <br>\n",
    " &nbsp;&nbsp;&nbsp;&nbsp; b) Exercise #2 - Find Distinct Words <br>\n",
    " &nbsp;&nbsp;&nbsp;&nbsp; c) Exercise #3 - Write a program to implement a Linear Search Algorithm. <br>"
   ]
  },
  {
   "cell_type": "markdown",
   "metadata": {},
   "source": [
    "## In-Place Algorithms"
   ]
  },
  {
   "cell_type": "markdown",
   "metadata": {},
   "source": [
    "#### Syntax"
   ]
  },
  {
   "cell_type": "code",
   "execution_count": 3,
   "metadata": {},
   "outputs": [
    {
     "name": "stdout",
     "output_type": "stream",
     "text": [
      "[10, 20, 30] before swap\n",
      "[10, 30, 20] after swap\n"
     ]
    }
   ],
   "source": [
    "# var[i], var[i+1] = var[i+1], var[i]\n",
    "#sometimes referred to as the swap algorithm\n",
    "\n",
    "def swap(alist,x,y):\n",
    "    alist[x],alist[y] = alist[y], alist[x]\n",
    "    return alist\n",
    "my_list = [10, 20,30]\n",
    "print(my_list, 'before swap')\n",
    "\n",
    "#swap\n",
    "swap(my_list,1,2)\n",
    "print(my_list, 'after swap')"
   ]
  },
  {
   "cell_type": "markdown",
   "metadata": {},
   "source": [
    "#### Out of Place Algorithm"
   ]
  },
  {
   "cell_type": "code",
   "execution_count": 4,
   "metadata": {},
   "outputs": [
    {
     "name": "stdout",
     "output_type": "stream",
     "text": [
      "[20, 30, 10]\n",
      "before ['a', 'b', 'c', 'd']\n",
      "after ['d', 'c', 'b', 'a']\n"
     ]
    }
   ],
   "source": [
    "#reverse a list\n",
    "#create a reversed copy of the list\n",
    "my_list_copy = my_list[::-1]\n",
    "print(my_list_copy)\n",
    "\n",
    "array= ['a','b','c','d']\n",
    "new_array = ['a'] * len(array)\n",
    "print(\"before\", array)\n",
    "\n",
    "length = len(array) -1\n",
    "for i in range(length):\n",
    "    new_array[i] = array[length -i]\n",
    "\n",
    "array = new_array\n",
    "print('after',array)"
   ]
  },
  {
   "cell_type": "markdown",
   "metadata": {},
   "source": [
    "#### In-Class Exercise #1 <br>\n",
    "<p>Write a function that takes in four arguments (list, index1, index2, index3), and swaps those three positions in the list passed in.</p>"
   ]
  },
  {
   "cell_type": "code",
   "execution_count": 5,
   "metadata": {},
   "outputs": [
    {
     "name": "stdout",
     "output_type": "stream",
     "text": [
      "[10, 2, 3, 8, 4, 4, 6] after swap\n"
     ]
    }
   ],
   "source": [
    "l_1 = [10, 4, 3, 8, 4, 2, 6]\n",
    "\n",
    "def swap(l_1,x,y,z):\n",
    "    l_1[x],l_1[y],l_1[z] = l_1[z], l_1[y], l_1[x]\n",
    "    return l_1\n",
    "# my_list = [10, 20,30]\n",
    "# print(my_list, 'before swap')\n",
    "\n",
    "#swap\n",
    "swap(l_1,1,2,5)\n",
    "print(l_1, 'after swap')"
   ]
  },
  {
   "cell_type": "markdown",
   "metadata": {},
   "source": [
    "## Two Pointers"
   ]
  },
  {
   "cell_type": "markdown",
   "metadata": {},
   "source": [
    "#### Syntax"
   ]
  },
  {
   "cell_type": "code",
   "execution_count": 6,
   "metadata": {},
   "outputs": [
    {
     "data": {
      "text/plain": [
       "[22, 11, 4, 8, 9, 12, 3, 2, 1]"
      ]
     },
     "execution_count": 6,
     "metadata": {},
     "output_type": "execute_result"
    }
   ],
   "source": [
    "#alist[left], alist[right] = alist[right], alist[left]\n",
    "#use these pointers to swap while we loop (in most cases)\n",
    "\n",
    "def twoPointers(alist):\n",
    "    #create pointers\n",
    "    left = 0\n",
    "    right = len(alist)-1\n",
    "\n",
    "    while left <= right:\n",
    "        alist[left],alist[right] = alist[right],alist[left]\n",
    "        left += 1\n",
    "        right -= 1\n",
    "    return alist\n",
    "my_list2 = [1,2,3,12,9,8,4,11,22]\n",
    "twoPointers(my_list2)\n"
   ]
  },
  {
   "cell_type": "markdown",
   "metadata": {},
   "source": [
    "#### Video of Algorithms <br>\n",
    "<p>Watch the video about algorithms.</p>\n",
    "\n",
    "https://www.youtube.com/watch?v=Q9HjeFD62Uk\n",
    "\n",
    "https://www.youtube.com/watch?v=kPRA0W1kECg\n",
    "\n",
    "https://www.youtube.com/watch?v=ZZuD6iUe3Pc"
   ]
  },
  {
   "cell_type": "markdown",
   "metadata": {},
   "source": [
    "# Sorting Algorithms"
   ]
  },
  {
   "cell_type": "markdown",
   "metadata": {},
   "source": [
    "#### Bubble Sort\n",
    "\n",
    "Worst Case: O(n^2) Time - O(1) Space"
   ]
  },
  {
   "cell_type": "code",
   "execution_count": 8,
   "metadata": {},
   "outputs": [
    {
     "data": {
      "text/plain": [
       "[1, 22, 34, 44, 55, 66, 88, 100]"
      ]
     },
     "execution_count": 8,
     "metadata": {},
     "output_type": "execute_result"
    }
   ],
   "source": [
    "def swap(i,j, array):\n",
    "    array[i],array[j] = array[j],array[i]\n",
    "\n",
    "def bubbleSort(array):\n",
    "    isSorted = False # this is a flag\n",
    "    while not isSorted:\n",
    "        isSorted = True\n",
    "        for num in range(len(array) -1):\n",
    "            if array[num] > array[num+1]:\n",
    "                swap(num,num+1, array)\n",
    "                isSorted = False\n",
    "    return array\n",
    "bubbleSort([22,55,88,44,1,100,34,66])\n"
   ]
  },
  {
   "cell_type": "markdown",
   "metadata": {},
   "source": [
    "##### Insertion Sort\n",
    "\n",
    "Worst Case: O(n^2) time - O(1)space"
   ]
  },
  {
   "cell_type": "code",
   "execution_count": 11,
   "metadata": {},
   "outputs": [
    {
     "data": {
      "text/plain": [
       "[1, 22, 34, 44, 55, 66, 88, 100]"
      ]
     },
     "execution_count": 11,
     "metadata": {},
     "output_type": "execute_result"
    }
   ],
   "source": [
    "def swap(i,j, array):\n",
    "    array[i],array[j] = array[j],array[i]\n",
    "\n",
    "def insertionSort(array):\n",
    "    for i in range(1,len(array)):\n",
    "        j = i\n",
    "        while j > 0 and array[j] < array[j-1]:\n",
    "            swap(j, j-1, array)\n",
    "            j -= 1\n",
    "\n",
    "    return array\n",
    "\n",
    "insertionSort([22,55,88,44,1,100,34,66])"
   ]
  },
  {
   "cell_type": "markdown",
   "metadata": {},
   "source": [
    "## Merge Sort"
   ]
  },
  {
   "cell_type": "markdown",
   "metadata": {},
   "source": [
    "#### How it Works"
   ]
  },
  {
   "cell_type": "code",
   "execution_count": 14,
   "metadata": {},
   "outputs": [
    {
     "name": "stdout",
     "output_type": "stream",
     "text": [
      "splitting... [8, 5, 8, 8, 3]\n",
      "splitting... [8, 5]\n",
      "splitting... [8]\n",
      "merging: [8]\n",
      "splitting... [5]\n",
      "merging: [5]\n",
      "merging: [5, 8]\n",
      "splitting... [8, 8, 3]\n",
      "splitting... [8]\n",
      "merging: [8]\n",
      "splitting... [8, 3]\n",
      "splitting... [8]\n",
      "merging: [8]\n",
      "splitting... [3]\n",
      "merging: [3]\n",
      "merging: [3, 8]\n",
      "merging: [3, 8, 8]\n",
      "merging: [3, 5, 8, 8, 8]\n"
     ]
    },
    {
     "data": {
      "text/plain": [
       "[3, 5, 8, 8, 8]"
      ]
     },
     "execution_count": 14,
     "metadata": {},
     "output_type": "execute_result"
    }
   ],
   "source": [
    "#step 1: split everything into its own group\n",
    "#step 2: From left to right merge the groups together\n",
    "#step 3: while merging, place each item in the correct position (within merged groups)\n",
    "#step 4: continue steps 3-4 until one group left\n",
    "\n",
    "from random import randint\n",
    "nums = [randint(0,20) for i in range(5)]\n",
    "\n",
    "#write mergesort\n",
    "def mergeSort(array):\n",
    "    print('splitting...',array)\n",
    "\n",
    "    #step 1: divide the array into equal parts\n",
    "    if len(array) >1:\n",
    "        mid = len(array)// 2\n",
    "        lefthalf = array[:mid]\n",
    "        righthalf = array[mid:]\n",
    "\n",
    "        #recursively call mergeSort to perform split\n",
    "        #then merge the lsits once splits are done\n",
    "        mergeSort(lefthalf)\n",
    "        mergeSort(righthalf)\n",
    "\n",
    "        # index pointers\n",
    "        l = 0 #pointer for left half\n",
    "        r = 0 #pointer for right half\n",
    "        m = 0 #pointer for main array\n",
    "\n",
    "        #step 2: compare left and right halves\n",
    "        while l < len(lefthalf) and r < len(righthalf):\n",
    "            if lefthalf[l] < righthalf[r]:\n",
    "                array[m] = lefthalf[l]\n",
    "                l += 1\n",
    "            else:\n",
    "                array[m] = righthalf[r]\n",
    "                r += 1\n",
    "            m += 1\n",
    "\n",
    "        #step 3: while merging place items in correct position\n",
    "        while l < len(lefthalf):\n",
    "            array[m] = lefthalf[l]\n",
    "            l += 1\n",
    "            m += 1\n",
    "        while r < len(righthalf):\n",
    "            array[m] = righthalf[r]\n",
    "            r += 1\n",
    "            m += 1\n",
    "    print('merging:',array)\n",
    "    return array\n",
    "mergeSort(nums)"
   ]
  },
  {
   "cell_type": "markdown",
   "metadata": {},
   "source": [
    "# Binary Search\n",
    "\n",
    "The Binary Search algorithm works by finding the number in the middle of a given array and comparing it to the target. Given that the array is sorted\n",
    "\n",
    "* The worst case run time for this algorithm is `O(log(n))`"
   ]
  },
  {
   "cell_type": "code",
   "execution_count": 15,
   "metadata": {},
   "outputs": [
    {
     "data": {
      "text/plain": [
       "'The index is ....5'"
      ]
     },
     "execution_count": 15,
     "metadata": {},
     "output_type": "execute_result"
    }
   ],
   "source": [
    "def binarySearchHelperFunction(array, target, left, right):\n",
    "    while left <= right:\n",
    "        middle = (left + right)//2\n",
    "        potentialMatch = array[middle]\n",
    "        if target == potentialMatch:\n",
    "            return f\"The index is ....{middle}\"\n",
    "        elif target < potentialMatch:\n",
    "            right = middle -1\n",
    "        else:\n",
    "            left = middle + 1\n",
    "    return -1\n",
    "def binarySearch(array,target):\n",
    "    return binarySearchHelperFunction(array,target,0,len(array)-1)\n",
    "\n",
    "binarySearch([22,55,88,44,1,100,34,66],100)"
   ]
  },
  {
   "cell_type": "markdown",
   "metadata": {},
   "source": [
    "# Exercises"
   ]
  },
  {
   "cell_type": "markdown",
   "metadata": {},
   "source": [
    "### Exercise #1 <br>\n",
    "<p>Reverse the list below in-place using an in-place algorithm.<br>For extra credit: Reverse the strings at the same time.</p>"
   ]
  },
  {
   "cell_type": "code",
   "execution_count": 6,
   "metadata": {},
   "outputs": [
    {
     "name": "stdout",
     "output_type": "stream",
     "text": [
      "['.', 'sentence', 'a', 'is', 'this']\n",
      "before ['this', 'is', 'a', 'sentence', '.']\n",
      "after ['.', 'sentence', 'a', 'is', 'this']\n"
     ]
    }
   ],
   "source": [
    "#first way shown...pretty easy just :-1 the whole statement\n",
    "words = ['this' , 'is', 'a', 'sentence', '.']\n",
    "words2 = words[::-1]\n",
    "print(words2)\n",
    "\n",
    "#this is where the spice comes in. \n",
    "new_array = ['this'] * len(words)\n",
    "print(\"before\", words)\n",
    "\n",
    "length = len(words) -1\n",
    "for i in range(length):\n",
    "    new_array[i] = words[length -i]\n",
    "\n",
    "words = new_array\n",
    "print('after',words)"
   ]
  },
  {
   "cell_type": "markdown",
   "metadata": {},
   "source": [
    "### Exercise #2 <br>\n",
    "<p>Create a function that counts how many distinct words are in the string below, then outputs a dictionary with the words as the key and the value as the amount of times that word appears in the string.<br>Should output:<br>{'a': 5,<br>\n",
    " 'abstract': 1,<br>\n",
    " 'an': 3,<br>\n",
    " 'array': 2, ... etc...</p>"
   ]
  },
  {
   "cell_type": "code",
   "execution_count": 7,
   "metadata": {},
   "outputs": [
    {
     "name": "stdout",
     "output_type": "stream",
     "text": [
      "{'in': 1, 'computing': 1, 'a': 5, 'hash': 4, 'table': 2, 'map': 2, 'is': 1, 'data': 2, 'structure': 2, 'which': 2, 'implements': 1, 'an': 3, 'associative': 1, 'array': 2, 'abstract': 1, 'type': 1, 'that': 1, 'can': 2, 'keys': 1, 'to': 2, 'values': 1, 'uses': 1, 'function': 1, 'compute': 1, 'index': 1, 'into': 1, 'of': 1, 'buckets': 1, 'or': 1, 'slots': 1, 'from': 1, 'the': 1, 'desired': 1, 'value': 1, 'be': 1, 'found': 1}\n"
     ]
    }
   ],
   "source": [
    "a_text = 'In computing, a hash table hash map is a data structure which implements an associative array abstract data type, a structure that can map keys to values. A hash table uses a hash function to compute an index into an array of buckets or slots from which the desired value can be found'\n",
    "str_list = list(a_text.split())\n",
    "\n",
    "def count_words(string):\n",
    "    str_list = list(string.lower().split())\n",
    "    dict = {}\n",
    "\n",
    "    for i in range(0, len(str_list)):\n",
    "        str_list[i] = str_list[i].strip(\",.\")\n",
    "        if str_list[i] in dict:\n",
    "            dict[str_list[i]] += 1\n",
    "        else:\n",
    "            dict[str_list[i]] = 1\n",
    "    print(dict)\n",
    "\n",
    "count_words(a_text)\n"
   ]
  },
  {
   "cell_type": "markdown",
   "metadata": {},
   "source": [
    "## Exercise #3\n",
    "\n",
    "Write a program to implement a Linear Search Algorithm. Also in a comment, write the Time Complexity of the following algorithm.\n",
    "\n",
    "#### Hint: Linear Searching will require searching a list for a given number. "
   ]
  },
  {
   "cell_type": "code",
   "execution_count": 10,
   "metadata": {},
   "outputs": [
    {
     "name": "stdout",
     "output_type": "stream",
     "text": [
      "[1, 67, 40, 21, 9, 95, 46, 98, 21, 25] - Random list\n",
      "[1, 9, 21, 21, 25, 40, 46, 67, 95, 98] - Sorted random list\n"
     ]
    },
    {
     "data": {
      "text/plain": [
       "'The index of 25 is 4.'"
      ]
     },
     "execution_count": 10,
     "metadata": {},
     "output_type": "execute_result"
    }
   ],
   "source": [
    "random_list = [1,67,40,21,9,95,46,98,21, 25]\n",
    "print(random_list, \"- Random list\")\n",
    "\n",
    "nums_list = sorted(random_list)\n",
    "print(nums_list, \"- Sorted random list\" )\n",
    "\n",
    "def binaryHelper(array, target, left, right):\n",
    "    while left <= right:\n",
    "        middle = (left + right) // 2\n",
    "        potential_match = array[middle]\n",
    "        if target == potential_match:\n",
    "            return f\"The index of {target} is {middle}.\"\n",
    "        elif target < potential_match:\n",
    "            right = middle - 1\n",
    "        else:\n",
    "            left = middle + 1 \n",
    "    return -1\n",
    "\n",
    "def binarySearch(array, target):\n",
    "    return binaryHelper(array, target, 0, len(array)-1)\n",
    "\n",
    "binarySearch(nums_list, 25)\n",
    "\n",
    "#algo is 0(n)"
   ]
  },
  {
   "cell_type": "code",
   "execution_count": null,
   "metadata": {},
   "outputs": [],
   "source": [
    "# Lucky Numbers\n",
    "# Given an array of integers arr, a lucky integer is an integer which has a frequency in the array equal to its value.\n",
    "# Return a lucky integer in the array. If there are multiple lucky integers return the largest of them. If there is no lucky integer return -1.\n",
    "# Example 1:\n",
    "# Input: arr = [2,2,3,4]\n",
    "# Output: 2\n",
    "# Explanation: The only lucky number in the array is 2 because frequency[2] == 2.\n",
    "# Example 2:\n",
    "# Input: arr = [1,2,2,3,3,3]\n",
    "# Output: 3\n",
    "# Explanation: 1, 2 and 3 are all lucky numbers, return the largest of them."
   ]
  }
 ],
 "metadata": {
  "kernelspec": {
   "display_name": "Python 3",
   "language": "python",
   "name": "python3"
  },
  "language_info": {
   "codemirror_mode": {
    "name": "ipython",
    "version": 3
   },
   "file_extension": ".py",
   "mimetype": "text/x-python",
   "name": "python",
   "nbconvert_exporter": "python",
   "pygments_lexer": "ipython3",
   "version": "3.9.7"
  }
 },
 "nbformat": 4,
 "nbformat_minor": 2
}
